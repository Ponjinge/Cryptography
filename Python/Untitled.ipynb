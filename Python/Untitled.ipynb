{
 "cells": [
  {
   "cell_type": "code",
   "execution_count": 10,
   "id": "38665560",
   "metadata": {},
   "outputs": [
    {
     "ename": "ModuleNotFoundError",
     "evalue": "No module named 'ecdsa'",
     "output_type": "error",
     "traceback": [
      "\u001b[1;31m---------------------------------------------------------------------------\u001b[0m",
      "\u001b[1;31mModuleNotFoundError\u001b[0m                       Traceback (most recent call last)",
      "Cell \u001b[1;32mIn[10], line 4\u001b[0m\n\u001b[0;32m      2\u001b[0m \u001b[38;5;28;01mimport\u001b[39;00m \u001b[38;5;21;01mtime\u001b[39;00m\n\u001b[0;32m      3\u001b[0m \u001b[38;5;28;01mfrom\u001b[39;00m \u001b[38;5;21;01mcollections\u001b[39;00m \u001b[38;5;28;01mimport\u001b[39;00m defaultdict\n\u001b[1;32m----> 4\u001b[0m \u001b[38;5;28;01mfrom\u001b[39;00m \u001b[38;5;21;01mecdsa\u001b[39;00m \u001b[38;5;28;01mimport\u001b[39;00m SigningKey, NIST384p\n\u001b[0;32m      6\u001b[0m \u001b[38;5;28;01mclass\u001b[39;00m \u001b[38;5;21;01mBlock\u001b[39;00m:\n\u001b[0;32m      7\u001b[0m     \u001b[38;5;28;01mdef\u001b[39;00m \u001b[38;5;21m__init__\u001b[39m(\u001b[38;5;28mself\u001b[39m, index, transactions, timestamp, previous_hash):\n",
      "\u001b[1;31mModuleNotFoundError\u001b[0m: No module named 'ecdsa'"
     ]
    }
   ],
   "source": [
    "import hashlib\n",
    "import time\n",
    "from collections import defaultdict\n",
    "from ecdsa import SigningKey, NIST384p\n",
    "\n",
    "class Block:\n",
    "    def __init__(self, index, transactions, timestamp, previous_hash):\n",
    "        self.index = index\n",
    "        self.transactions = transactions\n",
    "        self.timestamp = timestamp\n",
    "        self.previous_hash = previous_hash\n",
    "        self.nonce = 0\n",
    "        self.hash = self.compute_hash()\n",
    "\n",
    "    def compute_hash(self):\n",
    "        block_string = f\"{self.index}{self.transactions}{self.timestamp}{self.previous_hash}{self.nonce}\"\n",
    "        return hashlib.sha256(block_string.encode()).hexdigest()\n",
    "\n",
    "class Blockchain:\n",
    "    def __init__(self):\n",
    "        self.chain = []\n",
    "        self.current_transactions = []\n",
    "        self.create_genesis_block()\n",
    "\n",
    "    def create_genesis_block(self):\n",
    "        genesis_block = Block(0, [], time.time(), \"0\")\n",
    "        self.chain.append(genesis_block)\n",
    "\n",
    "    def add_new_transaction(self, transaction):\n",
    "        self.current_transactions.append(transaction)\n",
    "\n",
    "    def add_block(self, block):\n",
    "        previous_hash = self.chain[-1].hash\n",
    "        block.previous_hash = previous_hash\n",
    "        block.hash = block.compute_hash()\n",
    "        self.chain.append(block)\n",
    "        self.current_transactions = []\n",
    "\n",
    "    def create_new_block(self):\n",
    "        block = Block(len(self.chain), self.current_transactions, time.time(), self.chain[-1].hash)\n",
    "        self.add_block(block)\n",
    "\n",
    "class Wallet:\n",
    "    def __init__(self):\n",
    "        self.private_key = SigningKey.generate(curve=NIST384p)\n",
    "        self.public_key = self.private_key.get_verifying_key()\n",
    "\n",
    "    def create_transaction(self, sender_public_key, recipient_public_key, amount, coin_type):\n",
    "        transaction = {\n",
    "            'sender': sender_public_key.to_string().hex(),\n",
    "            'recipient': recipient_public_key.to_string().hex(),\n",
    "            'amount': amount,\n",
    "            'coin_type': coin_type\n",
    "        }\n",
    "        transaction['signature'] = self.private_key.sign(str(transaction).encode()).hex()\n",
    "        return transaction\n",
    "\n",
    "# Example Usage\n",
    "blockchain = Blockchain()\n",
    "wallet1 = Wallet()\n",
    "wallet2 = Wallet()\n",
    "\n",
    "transaction1 = wallet1.create_transaction(wallet1.public_key, wallet2.public_key, 10, 'CoinA')\n",
    "blockchain.add_new_transaction(transaction1)\n",
    "\n",
    "blockchain.create_new_block()\n",
    "\n",
    "print(f\"Blockchain: {[block.__dict__ for block in blockchain.chain]}\")\n"
   ]
  },
  {
   "cell_type": "code",
   "execution_count": null,
   "id": "dac14e6f",
   "metadata": {},
   "outputs": [],
   "source": []
  }
 ],
 "metadata": {
  "kernelspec": {
   "display_name": "Python 3 (ipykernel)",
   "language": "python",
   "name": "python3"
  },
  "language_info": {
   "codemirror_mode": {
    "name": "ipython",
    "version": 3
   },
   "file_extension": ".py",
   "mimetype": "text/x-python",
   "name": "python",
   "nbconvert_exporter": "python",
   "pygments_lexer": "ipython3",
   "version": "3.11.5"
  }
 },
 "nbformat": 4,
 "nbformat_minor": 5
}
