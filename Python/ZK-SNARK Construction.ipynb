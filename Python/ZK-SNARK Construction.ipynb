{
 "cells": [
  {
   "cell_type": "code",
   "execution_count": 2,
   "metadata": {},
   "outputs": [],
   "source": [
    "import numpy as np\n",
    "import pandas as pd\n",
    "import matplotlib.pyplot as plt\n",
    "import seaborn as sns\n"
   ]
  },
  {
   "cell_type": "markdown",
   "metadata": {},
   "source": [
    "## Introduction\n",
    "\n",
    "•  Completeness — if the statement is true then a prover can convince a verifier\n",
    "\n",
    "•  Soundness — a cheating prover can not convince a verifier of a false statement\n",
    "\n",
    "•  Zero-knowledge — the interaction only reveals if a statement is true and nothing else"
   ]
  },
  {
   "cell_type": "markdown",
   "metadata": {},
   "source": [
    "## The Medium of a Proof"
   ]
  },
  {
   "cell_type": "markdown",
   "metadata": {},
   "source": []
  },
  {
   "cell_type": "markdown",
   "metadata": {},
   "source": [
    "Let us consider polynomials, which can be visualized as a curve on a graph, shaped by a\n",
    "mathematical equation"
   ]
  },
  {
   "cell_type": "code",
   "execution_count": 3,
   "metadata": {},
   "outputs": [],
   "source": [
    "#We choose a function \n",
    "\n",
    "#f(x) = (x**3) - 6*(x**2) + (11 * x) - 6 "
   ]
  },
  {
   "cell_type": "code",
   "execution_count": 4,
   "metadata": {},
   "outputs": [
    {
     "data": {
      "image/png": "[encoded data removed]",
      "text/plain": [
       "<Figure size 640x480 with 1 Axes>"
      ]
     },
     "metadata": {},
     "output_type": "display_data"
    }
   ],
   "source": [
    "\n",
    "x = np.linspace(-1,5,10000)\n",
    "y = (x**3) - 6*(x**2) + (11 * x) - 6 \n",
    "\n",
    "# Plot the polynomial using Seaborn\n",
    "sns.lineplot(x, y, label='Polynomial Curve')\n",
    "\n",
    "# Set labels and title\n",
    "plt.xlabel('X-axis')\n",
    "plt.ylabel('Y-axis')\n",
    "plt.title('Plot')\n",
    "plt.ylim(-3,5)\n",
    "\n",
    "\n",
    "# Show legend\n",
    "plt.legend()\n",
    "\n",
    "# Show the plot\n",
    "plt.grid()\n",
    "plt.axhline(0, color='black', linewidth=2)\n",
    "plt.axvline(0, color='black', linewidth=2)\n",
    "\n",
    "\n",
    "plt.show()\n"
   ]
  },
  {
   "cell_type": "markdown",
   "metadata": {},
   "source": [
    "it is impossible to find two\n",
    "non-equal polynomials, which share a consecutive chunk of a curve\n"
   ]
  },
  {
   "cell_type": "markdown",
   "metadata": {},
   "source": [
    "Fundamental Theorem of Algebra tells us that a degree d polynomial can have at most d solutions, and therefore two different function of the same degree will have at most d shared points"
   ]
  },
  {
   "cell_type": "markdown",
   "metadata": {},
   "source": [
    "Hence we can conclude that evaluation of any polynomial at an arbitrary point is akin to the representation of its unique identity. Only at most 3 choices will have an equal evaluation on two different polynomials of the same degree"
   ]
  },
  {
   "cell_type": "markdown",
   "metadata": {},
   "source": [
    "If a prover claims to know some polynomial, that the verifier also knows, they can follow a simple protocol to verify the statement: \n",
    "\n",
    "•  Verifier chooses a random value for x and evaluates his polynomial locally\n",
    "\n",
    "• Verifier gives x to the prover and asks to evaluate the polynomial in question\n",
    "•  Prover evaluates his polynomial at x and gives the result to the verifier\n",
    "\n",
    "•  Verifier checks if the local result is equal to the prover’s result, and if so then the statement\n",
    "is proven with a high confidence\n",
    "\n"
   ]
  },
  {
   "cell_type": "markdown",
   "metadata": {},
   "source": [
    "##### Note: \n",
    "\n",
    "If we, for example, consider an integer range of x from 1 to 10^77, the number of points where\n",
    "evaluations are different is 1077 − d. Henceforth the probability that x accidentally “hits” any of the d shared points is equal to d/10^77 , which is considered negligible"
   ]
  },
  {
   "cell_type": "markdown",
   "metadata": {},
   "source": [
    "### Test Case"
   ]
  },
  {
   "cell_type": "code",
   "execution_count": 25,
   "metadata": {
    "scrolled": true
   },
   "outputs": [],
   "source": [
    "import random\n",
    "def prover_test():\n",
    "    #We do more tests than the number of dimensions so there is no mistake\n",
    "    for i in range(0,4): \n",
    "        x = random.randint(1,100000)\n",
    "\n",
    "        #Enter prover function:\n",
    "        yProver = (x**3) - 6*(x**2) + (11 * x) - 6 \n",
    "        #Enter verifier function:\n",
    "        yVerifier = (x**3) - 6*(x**2) + (11 * x) - 4\n",
    "        if yProver != yVerifier :\n",
    "            return False\n",
    "    return True \n",
    "\n",
    "\n",
    "def prover_test_in_pdf():\n",
    "  \n",
    "   \n",
    "    #There is a negligible chance to land on one of the three points\n",
    "    x = random.randint(1,100000000000000)  \n",
    "\n",
    "    #Enter prover function:\n",
    "    yProver = (x**3) - 6*(x**2) + (11 * x) - 6 \n",
    "    #Enter verifier function:\n",
    "    yVerifier = (x**3) - 8*(x**2) + (11 * x) - 6\n",
    "    if yProver != yVerifier :\n",
    "        return False\n",
    "    return True "
   ]
  },
  {
   "cell_type": "code",
   "execution_count": 27,
   "metadata": {},
   "outputs": [],
   "source": [
    "#We test each function for any instances of proving without the correct function\n",
    "\n",
    "for i in range(0,1000):\n",
    "    if prover_test() ==True :\n",
    "        print(\"Error\")\n",
    "        \n",
    "for i in range(0,1000):\n",
    "    if prover_test_in_pdf() ==True :\n",
    "        print(\"Error\")"
   ]
  },
  {
   "cell_type": "markdown",
   "metadata": {},
   "source": [
    "___\n",
    "\n",
    "## 3 Non-Interactive Zero-Knowledge of a Polynomial\n",
    "### 3.1 Proving Knowledge of a Polynomia"
   ]
  },
  {
   "cell_type": "markdown",
   "metadata": {},
   "source": [
    "We start with a problem of proving the knowledge of a polynomial and make our way to a\n",
    "generic approach. We will discover many other properties of polynomials along the way."
   ]
  },
  {
   "cell_type": "markdown",
   "metadata": {},
   "source": [
    "The discussion so far has focused on a weak notion of a proof, where parties have to trust each\n",
    "other because there are no measures yet to enforce the rules of the protocol. For example,\n",
    "the prover is not required to know a polynomial, and he can use any other means available to\n",
    "him to come up with a correct result. Moreover, if the amplitude of the verifier’s polynomial\n",
    "evaluations is not large, let us say 10, the verifier can guess a number, and there is a non-negligible probability that it will be accepted. We have to address such weakness of the protocol"
   ]
  },
  {
   "cell_type": "markdown",
   "metadata": {},
   "source": [
    "Let's explore what it means to know a polynomial...\n",
    "\n",
    "If one stated that they know a polynomial of degree 1, what that really means is that they know the coefficients c0 and c1 of said polynomial."
   ]
  },
  {
   "cell_type": "markdown",
   "metadata": {},
   "source": [
    "c1*x^1+c2*x^2"
   ]
  },
  {
   "cell_type": "markdown",
   "metadata": {},
   "source": [
    "### 3.2 Factorization"
   ]
  },
  {
   "cell_type": "markdown",
   "metadata": {},
   "source": [
    "The Fundamental Theorem of Algebra states that any polynomial can be factored into linear polynomials (i.e., a degree 1 polynomials representing a line), as long it is solvable. Consequently,\n",
    "we can represent any valid polynomial as a product of its factors:\n",
    "\n",
    "(x − a0)(x − a1)...(x − an) = 0\n",
    "\n",
    "Also, if any of these factors is zero then the whole equation is zero, henceforth all the a-s are\n",
    "the only solutions"
   ]
  },
  {
   "cell_type": "markdown",
   "metadata": {},
   "source": [
    "Factorisation allows us to easily see the roots (where y=0) of the polynomial, these will be the solutions to our new proving technique. Knowing the roots will mean knowing the polynomial.\n",
    "\n",
    "This way we can prove knowledge of such a polynomial without disclosing the polynomial itself.\n",
    "\n"
   ]
  },
  {
   "cell_type": "markdown",
   "metadata": {},
   "source": [
    "- Poly: p(x)\n",
    "- Target (prover's claim that he knows a poly of degree d knowing d-1 roots: t(x) \n",
    "- Arbitrary poly (last root) : h(x) "
   ]
  },
  {
   "cell_type": "markdown",
   "metadata": {},
   "source": [
    "p(x)= t(x) * h(x)"
   ]
  },
  {
   "cell_type": "markdown",
   "metadata": {},
   "source": [
    "A natural way to find h(x) is through the division h(x) = p(x)/t(x)\n",
    ". If the prover cannot find\n",
    "such h(x) that means that p(x) does not have the necessary cofactors t(x), in which case the\n",
    "polynomials division will have a remainder"
   ]
  },
  {
   "cell_type": "markdown",
   "metadata": {},
   "source": [
    "___ \n",
    "\n",
    "Using our polynomial identity check protocol we can compare polynomials p(x) and t(x)·h(x):\n",
    "\n",
    "\n",
    "• Verifier samples a random value r, calculates t = t(r) (i.e., evaluates) and gives r to the\n",
    "prover\n",
    "\n",
    "• Prover calculates h(x) = p(x)/t(x)\n",
    "and evaluates p(r) and h(r); the resulting values p, h are\n",
    "provided to the verifier\n",
    "\n",
    "• Verifier then checks that p = t · h, if so those polynomials are equal, meaning that p(x)\n",
    "has t(x) as a cofactor."
   ]
  },
  {
   "cell_type": "markdown",
   "metadata": {},
   "source": [
    "### Test case"
   ]
  },
  {
   "cell_type": "code",
   "execution_count": 101,
   "metadata": {},
   "outputs": [],
   "source": [
    "\n",
    "def verifier_canon_tcalc():\n",
    "    #y_p=x^3-3*x^2+2*x \n",
    "    #y_t=(x-1)(x-2)\n",
    "\n",
    "    #Verifier samples a random value \n",
    "    sample = random.randint(0,10000)\n",
    "    print(\"sample value: \"+str(sample))\n",
    "\n",
    "    #Calculates t = t(sample)\n",
    "    y_t=(sample-1)*(sample-2)\n",
    "    print(\"t(sample) =\"+str(y_t))\n",
    "   \n",
    "    #returns sample value to the prover\n",
    "    return [sample, y_t]"
   ]
  },
  {
   "cell_type": "code",
   "execution_count": 108,
   "metadata": {},
   "outputs": [],
   "source": [
    "def prover_canon_calc(x):\n",
    "   \n",
    "    #Prover calculates h(x)= p(x)/t(x) = x \n",
    "    # y_h=(x^3-3*x^2+2*x)/((x-1)*(x-2))\n",
    "    \n",
    "    #And now evaluates p(sample) and h(sample) and provides them to the verifier\n",
    "    y_p=x**3-4*x**2+2*x\n",
    "    y_h=(x**3-4*x**2+2*x)/((x-1)*(x-2))\n",
    "    \n",
    "    print(\"y_p = \"+str(y_p))\n",
    "    print(\"y_h = \"+str(y_h))\n",
    "    \n",
    "    return [y_p,y_h]\n",
    "    "
   ]
  },
  {
   "cell_type": "code",
   "execution_count": 106,
   "metadata": {},
   "outputs": [],
   "source": [
    "def verifier_canon_check(y_p, y_h, y_t):\n",
    "    #Verifier checks that p=t*h\n",
    "    if y_p == y_t * y_h :\n",
    "        return True\n",
    "    else:\n",
    "        return False "
   ]
  },
  {
   "cell_type": "code",
   "execution_count": 107,
   "metadata": {},
   "outputs": [
    {
     "name": "stdout",
     "output_type": "stream",
     "text": [
      "sample value: 6161\n",
      "t(sample) =37939440\n",
      "y_p = 233706931919\n",
      "y_h = 6159.999512881582\n"
     ]
    },
    {
     "data": {
      "text/plain": [
       "True"
      ]
     },
     "execution_count": 107,
     "metadata": {},
     "output_type": "execute_result"
    }
   ],
   "source": [
    "t_values = verifier_canon_tcalc()\n",
    "ph_values = prover_canon_calc(t_values[0])\n",
    "verifier_canon_check(ph_values[0],ph_values[1],t_values[1])"
   ]
  },
  {
   "cell_type": "markdown",
   "metadata": {},
   "source": [
    "###### Note: Now we can check a polynomial for specific properties without learning the polynomial itself, so this already gives us some form of zero-knowledge and succinctness. Nonetheless, there are multiple issues with this construction"
   ]
  },
  {
   "cell_type": "markdown",
   "metadata": {},
   "source": [
    "• Prover may not know the claimed polynomial p(x) at all. He can calculate evaluation\n",
    "t = t(r), select a random number h and set p = t· h, which will be accepted by the verifier\n",
    "as valid, since equation holds.\n",
    "\n",
    "• Because prover knows the random point x = r, he can construct any polynomial which has\n",
    "one shared point at r with t(r) · h(r).\n",
    "\n",
    "• In the original statement, prover claims to know a polynomial of a particular degree, in\n",
    "the current protocol there is no enforcement of degree. Hence prover can cheat by using a\n",
    "polynomial of higher degree which also satisfies the cofactors check.\n",
    "\n",
    "\n",
    "We will address all of the issues in the following sections.\n",
    "____"
   ]
  },
  {
   "cell_type": "markdown",
   "metadata": {},
   "source": [
    "### 3.3 Obscure Evaluation"
   ]
  },
  {
   "cell_type": "markdown",
   "metadata": {},
   "source": [
    "Two first issues of remark 3.1 are possible because values are presented at raw, prover knows r\n",
    "and t(r). It would be ideal if those values would be given as a black box, so one cannot temper\n",
    "with the protocol, but still able to compute operations on those obscure values. Something\n",
    "similar to the hash function, such that when computed it is hard to go back to the original\n",
    "input"
   ]
  },
  {
   "cell_type": "markdown",
   "metadata": {},
   "source": [
    "#### 3.3.1 Homomorphic Encryption"
   ]
  },
  {
   "cell_type": "markdown",
   "metadata": {},
   "source": [
    "Homomorphic encryption allows us to encrypt a value and apply arithmetic operations on such encryption. \n",
    "\n",
    "We chose a base natural number g and exponentiate g to the power of the value we want to encrypt."
   ]
  },
  {
   "cell_type": "code",
   "execution_count": 128,
   "metadata": {},
   "outputs": [],
   "source": [
    "def homo_encrypt(x, base):\n",
    "    return base**x\n",
    "\n",
    "def homo_multiply(x, mult):\n",
    "    return x**mult\n",
    "\n",
    "def homo_add(x, add, base):\n",
    "    return x*(base**add)\n",
    "\n",
    "def homo_substract(x, substract, base):\n",
    "    return x/(base**substract)\n",
    "\n",
    "def homo_decrypt(x, base):\n",
    "    secret=0\n",
    "    while x>1:\n",
    "        x = x/base\n",
    "        secret = secret +1\n",
    "    return secret"
   ]
  },
  {
   "cell_type": "code",
   "execution_count": 138,
   "metadata": {},
   "outputs": [
    {
     "data": {
      "text/plain": [
       "125"
      ]
     },
     "execution_count": 138,
     "metadata": {},
     "output_type": "execute_result"
    }
   ],
   "source": [
    "homo_encrypt(3,5) # We encrypt 3 at base 5 "
   ]
  },
  {
   "cell_type": "code",
   "execution_count": 139,
   "metadata": {},
   "outputs": [
    {
     "data": {
      "text/plain": [
       "15625"
      ]
     },
     "execution_count": 139,
     "metadata": {},
     "output_type": "execute_result"
    }
   ],
   "source": [
    "homo_multiply(125,2) # We multiply the encrypted 3 by 2 (3*2=6)"
   ]
  },
  {
   "cell_type": "code",
   "execution_count": 140,
   "metadata": {},
   "outputs": [
    {
     "data": {
      "text/plain": [
       "390625"
      ]
     },
     "execution_count": 140,
     "metadata": {},
     "output_type": "execute_result"
    }
   ],
   "source": [
    "homo_add(15625,2,5) # We add 2 (6+2=8)"
   ]
  },
  {
   "cell_type": "code",
   "execution_count": 141,
   "metadata": {},
   "outputs": [
    {
     "data": {
      "text/plain": [
       "625.0"
      ]
     },
     "execution_count": 141,
     "metadata": {},
     "output_type": "execute_result"
    }
   ],
   "source": [
    "homo_substract(390625,4,5) # We substract 4 (8-4=4)"
   ]
  },
  {
   "cell_type": "code",
   "execution_count": 142,
   "metadata": {},
   "outputs": [
    {
     "data": {
      "text/plain": [
       "4"
      ]
     },
     "execution_count": 142,
     "metadata": {},
     "output_type": "execute_result"
    }
   ],
   "source": [
    "homo_decrypt(625,5) # We decrypt the number and get our secret value"
   ]
  },
  {
   "cell_type": "markdown",
   "metadata": {},
   "source": [
    "However, since the base 5 is public, it is quite easy to go back to the secret number, dividing\n",
    "encrypted by 5 until the result is 1. The number of steps is the secret number."
   ]
  },
  {
   "cell_type": "markdown",
   "metadata": {},
   "source": [
    "____\n",
    "#### 3.3.2 Modular Arithmetic"
   ]
  },
  {
   "cell_type": "markdown",
   "metadata": {},
   "source": [
    "That is where the modular arithmetic comes into play. The idea of modular arithmetic is\n",
    "following: instead of having an infinite set of numbers we declare that we select only first n\n",
    "natural numbers, i.e., 0, 1, . . . , n − 1, to work with, and if any given integer falls out of this\n",
    "range, we “wrap” it around."
   ]
  },
  {
   "cell_type": "markdown",
   "metadata": {},
   "source": [
    "Moreover, we can perform arithmetic operations, and the result will always be in the scope of\n",
    "n numbers. We will use the notation “mod n” for now on to denote the range of numbers.\n",
    "\n",
    "\n",
    "Furthermore, the most important property is that the order of operations does not matter,\n",
    "e.g., we can perform all operations first and then apply modulo or apply modulo after every\n",
    "operation.\n",
    "\n",
    "\n",
    "So why on earth is that helpful? It turns out that if we use modulo arithmetic, having a\n",
    "result of operation it is non-trivial to go back to the original numbers because many different\n",
    "combinations will have the same result\n",
    "\n",
    "Without the modular arithmetic, the size of the result gives a clue to its solution. This piece\n",
    "of information is hidden otherwise, while common arithmetic properties are preserved.\n",
    "____ \n",
    "\n",
    "#### 3.3.3 Strong Homomorphic Encryption\n",
    "\n",
    "Let's go back to the homomorphic encryption and use modular arithmetic"
   ]
  },
  {
   "cell_type": "code",
   "execution_count": 153,
   "metadata": {},
   "outputs": [],
   "source": [
    "def mod_homo_encrypt(x, base, modulo):\n",
    "    return (base**x)%modulo\n",
    "\n",
    "def mod_homo_multiply(x, mult, modulo):\n",
    "    return (x**mult) #To-Do \n",
    "\n",
    "def mod_homo_add(x, add, base, modulo):\n",
    "    return x*(base**add)\n",
    "\n",
    "def mod_homo_substract(x, substract, base, modulo):\n",
    "    return x/(base**substract)\n",
    "\n",
    "def mod_homo_decrypt(x, base, modulo):\n",
    "    secret=0\n",
    "    while x>1:\n",
    "        x = x/base\n",
    "        secret = secret +1\n",
    "    return secret"
   ]
  },
  {
   "cell_type": "code",
   "execution_count": 151,
   "metadata": {},
   "outputs": [
    {
     "name": "stdout",
     "output_type": "stream",
     "text": [
      "3\n",
      "3\n"
     ]
    }
   ],
   "source": [
    "# We get the same result for different hidden numbers\n",
    "print(mod_homo_encrypt(5,5,7))\n",
    "print(mod_homo_encrypt(11,5,7))\n"
   ]
  },
  {
   "cell_type": "markdown",
   "metadata": {},
   "source": [
    "This is where it gets hard to find the exponent. In fact, if modulo is sufficiently large, it\n",
    "becomes infeasible to do so, and a good portion of the modern-day cryptography is based on\n",
    "the “hardness” of this problem.\n"
   ]
  },
  {
   "cell_type": "markdown",
   "metadata": {},
   "source": [
    "##### Note : There are limitations to this homomorphic encryption scheme while we can multiply an encrypted value by an unencrypted value, we cannot multiply (and divide) two encrypted values, as well as we cannot exponentiate an encrypted value. While unfortunate from the first impression, these properties will turn out to be the cornerstone of zk-SNARK"
   ]
  },
  {
   "cell_type": "markdown",
   "metadata": {},
   "source": [
    "#### 3.3.4 Encrypted Polynomial\n",
    "\n",
    "Armed with such tools, we can now evaluate a polynomial with an encrypted random value of\n",
    "x and modify the zero-knowledge protocol accordingly."
   ]
  },
  {
   "cell_type": "markdown",
   "metadata": {},
   "source": [
    "This is quite a powerful mechanism, and because of the homomorphic\n",
    "property, the encrypted evaluations of the same polynomials are always the same in encrypted\n",
    "space.\n",
    "We can now update the previous version of the protocol, for a polynomial of degree d:\n",
    "\n",
    "\n",
    "•  Verifier\n",
    "– samples a random value s, i.e., secret\n",
    "– calculates encryptions of s for all powers i in 0, 1, ..., d, i.e.: E(s\n",
    "i\n",
    ") = g\n",
    "s\n",
    "i\n",
    "– evaluates unencrypted target polynomial with s: t(s)\n",
    "– encrypted powers of s are provided to the prover: E(s\n",
    "0\n",
    "), E(s\n",
    "1\n",
    "), ..., E(s\n",
    "d\n",
    ")\n",
    "\n",
    "\n",
    "•  Prover\n",
    "– calculates polynomial h(x) = p(x)\n",
    "t(x)\n",
    "– using encrypted powers g\n",
    "s\n",
    "0\n",
    ", gs\n",
    "1\n",
    ", . . . , gs\n",
    "d\n",
    "and coefficients c0, c1, . . . , cn evaluates\n",
    "E (p(s)) = g\n",
    "p(s) =\n",
    "\u0010\n",
    "g\n",
    "s\n",
    "d\n",
    "\u0011cd\n",
    "· · · \u0010\n",
    "g\n",
    "s\n",
    "1\n",
    "\u0011c1\n",
    "·\n",
    "\u0010\n",
    "g\n",
    "s\n",
    "0\n",
    "\u0011c0\n",
    "and similarly E (h(s)) = g\n",
    "h(s)\n",
    "– the resulting g\n",
    "p and g\n",
    "h are provided to the verifier\n",
    "\n",
    "\n",
    "•  Verifier\n",
    "– The last step for the verifier is to checks that p = t(s) · h in encrypted space:\n",
    "g\n",
    "p =\n",
    "\u0010\n",
    "g\n",
    "h\n",
    "\u0011t(s)\n",
    "⇒ g\n",
    "p = g\n",
    "t(s)·h\n",
    "\n",
    "\n",
    "Note: because the prover does not know anything about s, it makes it hard to come up with\n",
    "non-legitimate but still matching evaluations.\n",
    "\n",
    "\n",
    "While in such protocol the prover’s agility is limited he still can use any other means to forge a\n",
    "proof without actually using the provided encryptions of powers of s, for example, if the prover\n",
    "claims to have a satisfactory polynomial using only 2 powers s\n",
    "3 and s\n",
    "1\n",
    ", that is not possible to\n",
    "verify in the current protocol"
   ]
  },
  {
   "cell_type": "code",
   "execution_count": null,
   "metadata": {},
   "outputs": [],
   "source": []
  }
 ],
 "metadata": {
  "kernelspec": {
   "display_name": "Python 3 (ipykernel)",
   "language": "python",
   "name": "python3"
  },
  "language_info": {
   "codemirror_mode": {
    "name": "ipython",
    "version": 3
   },
   "file_extension": ".py",
   "mimetype": "text/x-python",
   "name": "python",
   "nbconvert_exporter": "python",
   "pygments_lexer": "ipython3",
   "version": "3.8.3"
  }
 },
 "nbformat": 4,
 "nbformat_minor": 4
}
