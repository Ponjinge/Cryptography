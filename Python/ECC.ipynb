{
 "cells": [
  {
   "cell_type": "code",
   "execution_count": 1,
   "metadata": {},
   "outputs": [],
   "source": [
    "# Here will be our notebook for the ECC crypto model\n",
    "\n"
   ]
  },
  {
   "cell_type": "markdown",
   "metadata": {},
   "source": [
    "# Video notes \n",
    "\n",
    "## Chapter 1 \n",
    "\n",
    "### Why are elliptic curves important?\n",
    "\n",
    "Fermat's Last Theorem, a problem that was open for 358 years, was finally solved by Andrew Wiles in 1994. The proof of Fermat's Last Theorem relies on elliptic curves. \n",
    "\n",
    "###### Note :\n",
    "\n",
    "Wiles' proof of Fermat's Last Theorem is a proof of a special case of the modularity theorem for elliptic curves. That combined with Ribet's theorem on modularity lifting implies Fermat's Last Theorem. He announced the proof in 1993, but his proof contained an error that he fixed in 1994. Leading to the final proof of Fermat's Last Theorem being published in 1995.\n",
    "\n",
    "Fermat's Last Theorem states that for any integer value of n greater than 2, there are no three positive integers `a`, `b`, and `c` that satisfy the equation:\n",
    "\n",
    "$$ \n",
    "a^n + b^n = c^n \n",
    "$$ \n",
    "\n",
    "### What are elliptic curves?\n",
    "\n",
    "An elliptic curve is a curve defined by an equation of the form:\n",
    "$$\n",
    "y^2 = x^3 + ax + b\n",
    "$$\n",
    "\n",
    "where `a` and `b` are constants.\n",
    "\n",
    "when plotted an elliptic curve resembles a torus.\n",
    "\n",
    "\n",
    "\n",
    "\n"
   ]
  },
  {
   "cell_type": "markdown",
   "metadata": {},
   "source": [
    "### Elliptic curves in cryptography\n",
    "\n",
    "Elliptic curves ares defined over finite fields in cryptography. The points of the elliptic curve are used to define a group. The group operation is defined as follows:\n",
    "\n",
    "Given two points `P` and `Q` on the elliptic curve, the sum of `P` and `Q` is defined as the reflection of the third point of intersection of the line through `P` and `Q` with the curve.\n",
    "\n",
    "$$\n",
    "P + Q = R\n",
    "$$\n",
    "\n",
    "The group operation is associative, commutative, and has an identity element. The identity element is the point at infinity.\n",
    "\n",
    "### Advantages over RSA \n",
    "\n",
    "Elliptic curve cryptography is much more efficient than RSA. The key sizes required for the same level of security are much smaller. For example, a 256-bit elliptic curve key provides the same level of security as a 3072-bit RSA key. \n",
    "\n",
    "Furthermore, the complexity of the elliptic curve discrete logarithm problem is much higher than the RSA problem. This makes elliptic curve cryptography more resistant to attacks. \n",
    "\n",
    "### Applications of elliptic curve cryptography\n",
    "\n",
    "Elliptic curve cryptography is used in secure communication protocols such as SSL/TLS and HTTPS. It's efficiency makes it ideal for use in mobile devices and IoT devices where computational resources are limited. And it is also used for digital signatures and key exchange protocols. \n",
    "\n",
    "But the most interesting application of elliptic curve cryptography for us is it's use in blockchain technology. ECC is used in the generation of public and private keys in cryptocurrencies such as Bitcoin and Ethereum, making it a crucial component of the technology and highlighting it's robustness and security.\n",
    "\n"
   ]
  },
  {
   "cell_type": "markdown",
   "metadata": {},
   "source": [
    "## Chapter 2\n",
    "\n",
    "Def: An elliptic curve is defined over a finite field `F_p` where `p` is a prime number. "
   ]
  },
  {
   "cell_type": "markdown",
   "metadata": {},
   "source": []
  },
  {
   "cell_type": "code",
   "execution_count": 8,
   "metadata": {},
   "outputs": [
    {
     "data": {
      "image/png": "[encoded data removed]",
      "text/plain": [
       "<Figure size 640x480 with 1 Axes>"
      ]
     },
     "metadata": {},
     "output_type": "display_data"
    }
   ],
   "source": [
    "# Plot an Elliptic Curve for p = 21\n",
    "\n",
    "import matplotlib.pyplot as plt \n",
    "import numpy as np \n",
    "import pandas as pd \n",
    "\n",
    "# Define the curve\n",
    "p = 21\n",
    "a = 1\n",
    "b = 3\n",
    "\n",
    "# Define the function\n",
    "def f(x):\n",
    "    return (x**3 + a*x + b) \n",
    "\n",
    "# Define the domain\n",
    "\n",
    "y = f(x)\n",
    "\n",
    "# Plot the curve\n",
    "plt.plot(y)\n",
    "plt.title('Elliptic Curve for p = 21')\n",
    "plt.show()\n",
    "\n"
   ]
  },
  {
   "cell_type": "markdown",
   "metadata": {},
   "source": [
    "#Mike pound video notes\n",
    "\n",
    "An elliptic curve is a curve in 2 dimensions \n",
    "In our modular arithmetic we had numbers going around in a circle modulo n. Which is just a list of numbers or a cycle of numbers. \n",
    "With elliptic curves, we have a cycle of points somewhere on this curve, so our generator point is a point on the curve. \n",
    "Instead of raising a number to a power, we are adding a point to itself. To do this, we draw a line tangent to the curve at the point, and find the point where the line intersects the curve, and then reflect that point across the x-axis. This is the sum of the point with itself. To find the next point, we draw a line through the two points and find the third point of intersection with the curve, reflect that point across the x-axis to get the third point. This is the sum of the first two points.\n",
    "$$\n",
    "3g = g+2g\n",
    "$$\n",
    "\n",
    "For the next one we would simply do the same between g and 3g. \n",
    "\n"
   ]
  },
  {
   "cell_type": "markdown",
   "metadata": {},
   "source": [
    "By doing this, we seem to be moving around the curve by adding points to themselves, in a seemingly random way (deterministic but unpredictable). Given a point on the curve, it appears impossible to predict what multiple of our generator point will give us that point. \n",
    "\n",
    "This is a plug in replacement for the modular arithmetic we were doing before for the diffie hellman key exchange. \n",
    "\n",
    "\n",
    "We do all of this modulo n \n",
    "\n",
    "So this no longer ressembles an elliptic curve, but a plot of random points. Its mathematically very easy to calculate some multiple of a point on the curve, but seemingly impossible to calculate the reverse.\n",
    "\n",
    "Harder to solve the elliptic curve discrete logarithm problem than the discrete logarithm problem.\n",
    "\n",
    "\n",
    "People still use RSA because it is more widely understood and has been around for longer. Also, people are suspicious of elliptic curves, or at least certain models such as the NIST p-256 curve. Mainly because the NSA was involved in the development of the curve and choosing the values of a and b. However, the curve is still widely used and is considered secure. \n",
    "Researchers believe that shortcuts may have been taken when choosing the parameters for the curve for efficiency reasons. \n",
    "\n",
    "There was an example of there being a backdoor found in a previous elliptic curve.\n",
    "\n",
    "\n",
    "\n",
    "\n"
   ]
  },
  {
   "cell_type": "markdown",
   "metadata": {},
   "source": [
    "## Second Mike Pound video notes \n",
    "\n",
    "The elliptic curve random number generator backdoor. \n",
    "\n",
    "The random number generator was used in the Dual EC DRBG, which is a deterministic random bit generator. It was used in the NIST SP 800-90 standard. This standard was used by the NSA and other government agencies.\n",
    "\n",
    "\n"
   ]
  }
 ],
 "metadata": {
  "kernelspec": {
   "display_name": "base",
   "language": "python",
   "name": "python3"
  },
  "language_info": {
   "codemirror_mode": {
    "name": "ipython",
    "version": 3
   },
   "file_extension": ".py",
   "mimetype": "text/x-python",
   "name": "python",
   "nbconvert_exporter": "python",
   "pygments_lexer": "ipython3",
   "version": "3.11.5"
  }
 },
 "nbformat": 4,
 "nbformat_minor": 2
}
