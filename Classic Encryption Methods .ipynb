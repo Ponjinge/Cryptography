{
 "cells": [
  {
   "cell_type": "markdown",
   "metadata": {},
   "source": [
    "# Classic Encryption Methods"
   ]
  },
  {
   "cell_type": "markdown",
   "metadata": {},
   "source": [
    "Here are some of the best known encryption methods:\n",
    "\n",
    "1. RSA\n",
    "\n",
    "2. ElGamal\n",
    "\n",
    "3. AES\n",
    "\n",
    "4. DES\n",
    "\n",
    "5. 3DES\n",
    "\n",
    "6. Blowfish\n",
    "\n",
    "7. Twofish\n",
    "\n",
    "8. Diffie-Hellman\n",
    "\n",
    "9. ECC\n",
    "\n",
    "10. SHA\n",
    "\n",
    "___"
   ]
  },
  {
   "cell_type": "markdown",
   "metadata": {},
   "source": [
    "## RSA (Rivest-Shamir-Adleman):\n",
    "\n",
    "RSA is a widely used public-key cryptosystem that can be used for secure data transmission and digital signatures.\n",
    "It involves the use of a pair of public and private keys for encryption and decryption.\n",
    "\n"
   ]
  },
  {
   "cell_type": "markdown",
   "metadata": {},
   "source": [
    "#### Key publications: \n",
    "\n",
    "Title: A Method for Obtaining Digital Signatures and Public-Key Cryptosystems\n",
    "\n",
    "Authors: Ron Rivest, Adi Shamir, Leonard Adleman\n",
    "\n",
    "Publication: Communications of the ACM (CACM)\n",
    "Volume: 21\n",
    "\n",
    "Issue: 2\n",
    "\n",
    "Pages: 120-126\n",
    "\n",
    "Year: 1978\n",
    "\n",
    "DOI: 10.1145/359340.359342\n",
    "\n"
   ]
  },
  {
   "cell_type": "markdown",
   "metadata": {},
   "source": [
    "### Introduction to Encryption methods:\n",
    "\n",
    "As defined in [RSA1], an encryption method posesses a novel property being that publicly revealing an encryption key does not reveal the corresponding decryption key. \n",
    "\n",
    "This means that keys do not need to be transmitted using secure means, as only the target of such key knows the corresponding decryption key to decipher the message. Furthermore, a message can be signed with a privately held decryption key. Anyone can verify this signature, it cannot be tampered with and fakes cannot be forged. \n",
    "\n",
    "These procedures have the following four properties:\n",
    "\n",
    "- (a) Deciphering the enciphered form of a message M yields M. Formally, \n",
    "\n",
    "D(E(M)) = M. \n",
    "\n",
    "- (b) Both E and D are easy to compute.\n",
    "\n",
    "\n",
    "- (c) By publicly revealing E the user does not reveal an\n",
    "easy way to compute D. This means that in practice\n",
    "only he can decrypt messages encrypted with E, or\n",
    "compute D efficiently.\n",
    "\n",
    "\n",
    "- (d) If a message M is first deciphered and then enciphered, M is the result. Formally,\n",
    "\n",
    "E(D(M)) = M. \n",
    "___\n",
    "\n",
    "Trap-door one-way function : satisfies (a),(b),(c)\n",
    "\n",
    "Trap-door one-way permutation: satisfies (a),(b),(c),(d) ;  is a one-to-one mapping (all cyphertext <=> message) ; (d) needed only to implement signatures \n",
    "\n",
    "One-way: very easy to compute in one direction, but very difficult in the other.\n",
    "\n",
    "Trap-Door: inverse functions are easy to compute once certain private information is known. \n",
    "\n",
    "\n",
    "\n",
    "### Goal \n",
    "\n",
    "Integrate RSA into an electronic mail system (remember 70s), so that messages are private and can be signed. \n",
    "This method implements Diffie and Hellman's concept of a public key cryptosystem.\n",
    "\n",
    "### IDK\n",
    "\n",
    "cyphertext = enciphered form of a message \n",
    "\n",
    "[RSA1] Critique of DES [13,14] developped at IBM and adopted by the National Bureau of Standards, for lacking property (c) needed to implement a public-key cryptosystem. \n",
    "All classical encryption methods (including NBS) suffer from the \"key distribution problem\" . \n",
    "\n",
    "#### Key distribution problem\n",
    "\n",
    "In order for a private communication line to be established, another private transaction is necessary  in order to distribute the corresponding encryption and decryption keys to the sender and receiver respectively.  \n",
    "A public-key cryptosystem does not require any private couriers, as the keys can be distributed over the insecure communications channel. \n",
    "\n",
    "HOW? \n",
    "\n",
    "\n",
    "\n",
    "\n",
    "### ChatGPT \n",
    "\n",
    "RSA, which stands for Rivest-Shamir-Adleman, is a widely used public-key cryptosystem that enables secure communication and digital signatures over insecure networks. It was introduced in 1977 by Ron Rivest, Adi Shamir, and Leonard Adleman, and it remains one of the most widely used and studied encryption algorithms.\n",
    "\n",
    "Here's a high-level explanation of how RSA works:\n",
    "\n",
    "1. **Key Generation:**\n",
    "   - RSA uses a pair of keys: a public key and a private key.\n",
    "   - The public key is used for encryption, and the private key is used for decryption.\n",
    "   - Key generation involves the following steps:\n",
    "      - Choose two large prime numbers, \\(p\\) and \\(q\\).\n",
    "      - Compute their product \\(n = p \\times q\\). \\(n\\) is used as the modulus for both the public and private keys.\n",
    "      - Calculate Euler's totient function \\(\\phi(n) = (p-1) \\times (q-1)\\), which represents the number of positive integers less than \\(n\\) that are coprime to \\(n\\).\n",
    "      - Choose a public exponent \\(e\\) such that \\(1 < e < \\phi(n)\\) and \\(e\\) is coprime to \\(\\phi(n)\\).\n",
    "      - Calculate the private exponent \\(d\\) such that \\(d \\equiv e^{-1} \\pmod{\\phi(n)}\\), where \\(d\\) is the modular multiplicative inverse of \\(e\\) modulo \\(\\phi(n)\\).\n",
    "\n",
    "   - The public key is \\((n, e)\\), and the private key is \\((n, d)\\).\n",
    "\n",
    "2. **Encryption:**\n",
    "   - The sender uses the recipient's public key to encrypt a message.\n",
    "   - Suppose the message is \\(M\\) and the public key is \\((n, e)\\).\n",
    "   - The ciphertext \\(C\\) is computed as \\(C \\equiv M^e \\pmod{n}\\).\n",
    "\n",
    "3. **Decryption:**\n",
    "   - The recipient uses their private key to decrypt the ciphertext.\n",
    "   - Suppose the ciphertext is \\(C\\) and the private key is \\((n, d)\\).\n",
    "   - The decrypted message \\(M\\) is computed as \\(M \\equiv C^d \\pmod{n}\\).\n",
    "\n",
    "RSA's security is based on the difficulty of factoring the product of two large prime numbers \\(n = p \\times q\\). Breaking RSA requires factoring \\(n\\) into its prime factors, which becomes computationally infeasible for sufficiently large prime numbers.\n",
    "\n",
    "RSA is commonly used for secure communication, digital signatures, and key exchange in various security protocols and applications. However, the key length used in RSA is critical for its security, and longer key lengths are recommended to withstand advances in computing power and factorization algorithms.\n"
   ]
  },
  {
   "cell_type": "markdown",
   "metadata": {},
   "source": [
    "### Last night research \n",
    "\n",
    "#### RSA method \n",
    "\n",
    "Last night I looked into how RSA works:\n",
    "\n",
    "Paint example:\n",
    "\n",
    "Alice and Bob both have private colours, they will use these colours to encrypt their messages so that a third party cannot read the messages. \n",
    "\n",
    "Alice and Bob also have a public colour (public key) that everyone is able to see. \n",
    "\n",
    "RSA works like sending open locks, allowing anyone to communicate back to you by closing the lock and sending it back, locked therfore encrypted in our metaphore. Alice has all one private key that opens all of these locks. \n",
    "\n",
    "\n",
    "Okay but how does this work for actual code. \n",
    "\n",
    "\n",
    "Prime number theory: prime numbers have be proven to be the most robust numbers, charting Euler's totent will prove this.\n",
    "\n",
    "Now what we are doing is creating a private key that is the result of Phi of the factorisation of two prime numbers. \n",
    "\n",
    "Phi ( p * q) = Phi (p) * Phi (q)\n",
    "             = (p-1)*(q-1)\n",
    "             = n\n",
    "             \n",
    "we also have a public key that is a Base and a modulo value \n",
    "\n",
    "in order to encrypt a message, \n",
    "\n",
    "Encryption: Cipher c = F(m,e)= m*e mod n \n",
    "            \n",
    "            where m is the message, e is the public key and c is the cipher. \n",
    "\n",
    "Decryption: Message m = F(c,d)= c*d mod n"
   ]
  },
  {
   "cell_type": "markdown",
   "metadata": {},
   "source": [
    "## Example: "
   ]
  },
  {
   "cell_type": "code",
   "execution_count": 7,
   "metadata": {},
   "outputs": [],
   "source": [
    "import pandas as pd\n",
    "import numpy as np\n",
    "import matplotlib.pyplot as plt\n",
    "import seaborn as sns\n",
    "from sympy import isprime"
   ]
  },
  {
   "cell_type": "code",
   "execution_count": 81,
   "metadata": {},
   "outputs": [],
   "source": [
    "class User_weak:\n",
    "    def __init__(self, name, prime_p, prime_q, e):\n",
    "        if isprime(prime_p) & isprime(prime_q):\n",
    "            self.name = name\n",
    "            self.prime_p = prime_p\n",
    "            self.prime_q = prime_q\n",
    "            #(1 < e < phi(n)) and (e) is coprime to (phi(n))\n",
    "            self.e = e #65537 is the magic number , 3 is exploitable, try 31 and 37\n",
    "            #create_keys()\n",
    "            self.n = self.prime_p * self.prime_q\n",
    "            self.eulers_totient_n = (self.prime_p-1)*(self.prime_q-1)\n",
    "            self.d = self.__create_keys__()\n",
    "            self.inbox = []\n",
    "        else:\n",
    "            print(\"WARNING NOT PRIME NUMBERS, if you are unsure, generate a key using the 'generate_random_primes()' function.\")\n",
    "            \n",
    "    \n",
    "    def __create_keys__(self):\n",
    "        \n",
    "        \n",
    "        \n",
    "         # Functions for calculating d\n",
    "        # Greatest common divider \n",
    "        def extended_gcd(a, b):\n",
    "            if a == 0:\n",
    "                return b, 0, 1\n",
    "            else:\n",
    "                g, x, y = extended_gcd(b % a, a)\n",
    "                return g, y - (b // a) * x, x\n",
    "   \n",
    "        # Modular Inverse\n",
    "        def modinv(a, m):\n",
    "            g, x, y = extended_gcd(a, m)\n",
    "            if g != 1:\n",
    "                raise Exception('Modular inverse does not exist')\n",
    "            else:\n",
    "                return x % m\n",
    "        d = modinv(self.e, self.eulers_totient_n)\n",
    "        return d\n",
    "        \n",
    "    def __str__(self):\n",
    "        return (f'Username: {self.name}, prime numbers : {self.prime_p},{self.prime_q} | n: {self.n}, phi_n: {self.eulers_totient_n}, exponent_e: {self.e}, d: {self.d}')\n",
    "        \n",
    "\n",
    "    \n",
    "    def __get_public_key__(self):\n",
    "        return (self.n, self.e)\n",
    "    \n",
    "    def __get_private_key__(self):\n",
    "        return (self.n, self.d)\n",
    "    \n",
    "    \n",
    "    def __encrypt_message__(self, message):\n",
    "        #return ((message**self.e) % self.n)\n",
    "        return pow(message, self.e, self.n)\n",
    "    def __decrypt_message__(self, cipher):\n",
    "        #return ((cipher**self.d) % self.n)\n",
    "        return pow(cipher, self.d, self.n)\n",
    "    \n",
    "\n",
    "    def __send_message__(self,User, message):\n",
    "        #we encrypt a message using the other user's public key, only he will be able to decrypt it\n",
    "        cipher = User.__encrypt_message__(message)\n",
    "        User.inbox.append(cipher)\n",
    "    \n",
    "    def __read_message__(self, message_number):\n",
    "        return self.__decrypt_message__(self.inbox[message_number])\n",
    "        \n",
    "    def __delete_message__(self, message_number):\n",
    "        self.inbox.pop(message_number)\n",
    "        return 'message deleted'"
   ]
  },
  {
   "cell_type": "code",
   "execution_count": 82,
   "metadata": {
    "scrolled": true
   },
   "outputs": [],
   "source": [
    "John = User_weak(\"John\", 27647, 60041, 1579)"
   ]
  },
  {
   "cell_type": "code",
   "execution_count": 83,
   "metadata": {
    "scrolled": true
   },
   "outputs": [
    {
     "data": {
      "text/plain": [
       "'Username: John, prime numbers : 27647,60041 | n: 1659953527, phi_n: 1659865840, exponent_e: 1579, d: 954501699'"
      ]
     },
     "execution_count": 83,
     "metadata": {},
     "output_type": "execute_result"
    }
   ],
   "source": [
    "str(John)"
   ]
  },
  {
   "cell_type": "code",
   "execution_count": 84,
   "metadata": {},
   "outputs": [
    {
     "data": {
      "text/plain": [
       "(1659953527, 1579)"
      ]
     },
     "execution_count": 84,
     "metadata": {},
     "output_type": "execute_result"
    }
   ],
   "source": [
    "John.__get_public_key__()"
   ]
  },
  {
   "cell_type": "code",
   "execution_count": 85,
   "metadata": {},
   "outputs": [
    {
     "data": {
      "text/plain": [
       "(1659953527, 954501699)"
      ]
     },
     "execution_count": 85,
     "metadata": {},
     "output_type": "execute_result"
    }
   ],
   "source": [
    "John.__get_private_key__()"
   ]
  },
  {
   "cell_type": "code",
   "execution_count": 86,
   "metadata": {},
   "outputs": [
    {
     "name": "stdout",
     "output_type": "stream",
     "text": [
      "Finished\n"
     ]
    }
   ],
   "source": [
    "#Check the encryption on 100 random messages\n",
    "for i in range(1, 100):\n",
    "    m = np.random.randint(100000,1000000000)\n",
    "    if John.__decrypt_message__(John.__encrypt_message__(m))!=m:\n",
    "        print(False) \n",
    "print(\"Finished\")\n",
    "    \n",
    "        "
   ]
  },
  {
   "cell_type": "code",
   "execution_count": 95,
   "metadata": {},
   "outputs": [
    {
     "data": {
      "text/plain": [
       "1"
      ]
     },
     "execution_count": 95,
     "metadata": {},
     "output_type": "execute_result"
    }
   ],
   "source": [
    "Rob= User_weak(\"Robina\",1579,60041,27647)\n",
    "John.__send_message__(Rob, 11)\n",
    "Rob.__read_message__(0)\n",
    "len(Rob.inbox)"
   ]
  },
  {
   "cell_type": "code",
   "execution_count": 96,
   "metadata": {},
   "outputs": [
    {
     "data": {
      "text/plain": [
       "0"
      ]
     },
     "execution_count": 96,
     "metadata": {},
     "output_type": "execute_result"
    }
   ],
   "source": [
    "Rob.__delete_message__(0)\n",
    "len(Rob.inbox)"
   ]
  },
  {
   "cell_type": "code",
   "execution_count": 100,
   "metadata": {},
   "outputs": [
    {
     "data": {
      "text/plain": [
       "8"
      ]
     },
     "execution_count": 100,
     "metadata": {},
     "output_type": "execute_result"
    }
   ],
   "source": [
    "John.__send_message__(Rob, 1344994)\n",
    "John.__send_message__(Rob, 1344994)\n",
    "len(Rob.inbox)"
   ]
  },
  {
   "cell_type": "code",
   "execution_count": 103,
   "metadata": {},
   "outputs": [
    {
     "name": "stdout",
     "output_type": "stream",
     "text": [
      "1344994\n",
      "1344994\n",
      "1344994\n",
      "1344994\n",
      "1344994\n",
      "1344994\n",
      "1344994\n",
      "1344994\n"
     ]
    }
   ],
   "source": [
    "for i in range (0,len(Rob.inbox)):\n",
    "    print(Rob.__read_message__(i))\n",
    "    "
   ]
  },
  {
   "cell_type": "markdown",
   "metadata": {},
   "source": [
    "## ElGamal:\n",
    "\n",
    "ElGamal is another public-key encryption algorithm, known for its use in public-key cryptography and digital signatures.\n",
    "It is based on the Diffie-Hellman key exchange algorithm.\n",
    "\n",
    "## AES (Advanced Encryption Standard):\n",
    "\n",
    "AES is a symmetric encryption algorithm widely used to secure sensitive data.\n",
    "It operates on fixed-size blocks of data (128 bits) and supports key sizes of 128, 192, or 256 bits.\n",
    "\n",
    "## DES (Data Encryption Standard):\n",
    "\n",
    "DES is an early symmetric-key block cipher that was widely used but is now considered insecure due to its small key size (56 bits).\n",
    "\n",
    "## 3DES (Triple DES):\n",
    "\n",
    "3DES is a modification of DES that applies the DES algorithm three times to each data block.\n",
    "It provides more security than DES but is less efficient than more modern symmetric algorithms.\n",
    "\n",
    "## Blowfish:\n",
    "\n",
    "Blowfish is a symmetric-key block cipher that can be used for encryption and decryption of data.\n",
    "It supports key sizes from 32 bits to 448 bits.\n",
    "\n",
    "## Twofish:\n",
    "\n",
    "Twofish is a symmetric-key block cipher designed as a replacement for DES or IDEA.\n",
    "It operates on data blocks of size 128 bits and supports key sizes up to 256 bits.\n",
    "\n",
    "## Diffie-Hellman:\n",
    "\n",
    "Diffie-Hellman is a key exchange algorithm used to secure communication over an untrusted network.\n",
    "It enables two parties to agree on a shared secret key without directly exchanging the key.\n",
    "\n",
    "## ECC (Elliptic Curve Cryptography):\n",
    "\n",
    "ECC is a public-key cryptography algorithm based on the mathematics of elliptic curves.\n",
    "It provides strong security with shorter key lengths compared to traditional algorithms.\n",
    "\n",
    "## SHA (Secure Hash Algorithm):\n",
    "\n",
    "SHA is a family of cryptographic hash functions widely used for data integrity and digital signatures.\n",
    "Examples include SHA-1, SHA-256, SHA-384, and SHA-512."
   ]
  },
  {
   "cell_type": "code",
   "execution_count": null,
   "metadata": {},
   "outputs": [],
   "source": []
  }
 ],
 "metadata": {
  "kernelspec": {
   "display_name": "Python 3 (ipykernel)",
   "language": "python",
   "name": "python3"
  },
  "language_info": {
   "codemirror_mode": {
    "name": "ipython",
    "version": 3
   },
   "file_extension": ".py",
   "mimetype": "text/x-python",
   "name": "python",
   "nbconvert_exporter": "python",
   "pygments_lexer": "ipython3",
   "version": "3.8.3"
  }
 },
 "nbformat": 4,
 "nbformat_minor": 4
}
